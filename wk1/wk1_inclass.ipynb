{
 "cells": [
  {
   "cell_type": "markdown",
   "id": "14add2c6",
   "metadata": {},
   "source": [
    "## Week 1 Live Session: In-Class Exercise\n",
    "\n",
    "From my [github](https://github.com/bennybenibene?tab=repositories) fork the week1_demo project that was just created.  You should now have your own version of the remote repository on github.  Do the following:\n",
    "\n",
    "- Clone the repo to your local machine.  \n",
    "- Create a feature branch.\n",
    "- Create a new .ipynb or .py file.  \n",
    "- Add, commit and push the new file to your remote repo.\n",
    "- Checkout the master branch.\n",
    "- Merge the changes with your local master branch.\n",
    "- Push the changes to the remote origin.\n",
    "- Delete the feature branch locally and remotely."
   ]
  }
 ],
 "metadata": {
  "kernelspec": {
   "display_name": "tools_venv",
   "language": "python",
   "name": "tools_venv"
  },
  "language_info": {
   "codemirror_mode": {
    "name": "ipython",
    "version": 3
   },
   "file_extension": ".py",
   "mimetype": "text/x-python",
   "name": "python",
   "nbconvert_exporter": "python",
   "pygments_lexer": "ipython3",
   "version": "3.8.10"
  }
 },
 "nbformat": 4,
 "nbformat_minor": 5
}
