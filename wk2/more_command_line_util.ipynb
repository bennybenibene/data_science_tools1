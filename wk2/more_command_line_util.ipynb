{
 "cells": [
  {
   "cell_type": "markdown",
   "id": "d4ea5a83",
   "metadata": {},
   "source": [
    "## curl\n",
    "https://www.geeksforgeeks.org/curl-command-in-linux-with-examples/"
   ]
  },
  {
   "cell_type": "markdown",
   "id": "adf671e3",
   "metadata": {},
   "source": [
    "## wget"
   ]
  },
  {
   "cell_type": "markdown",
   "id": "1c44b7f0",
   "metadata": {},
   "source": [
    "# There are many other useful command line utilities.  Some common ones that you may find useful are detailed below.\n",
    "https://www.kdnuggets.com/2018/03/top-12-essential-command-line-tools-data-scientists.html\n",
    "https://www.kdnuggets.com/2022/06/20-basic-linux-commands-data-science-beginners.html"
   ]
  },
  {
   "cell_type": "markdown",
   "id": "108a77b6",
   "metadata": {},
   "source": [
    "## cut\n",
    "Cut allows us to slice out contents from each line of a file. The default delimiter is tab character, but we can specify another delimiter with -d option.  The -f option allows for selecting specific fields."
   ]
  },
  {
   "cell_type": "code",
   "execution_count": null,
   "id": "f43ca931",
   "metadata": {},
   "outputs": [],
   "source": [
    "%%bash\n",
    "\n",
    "curl -o 'google_ratings.csv' 'https://archive.ics.uci.edu/ml/machine-learning-databases/00485/google_review_ratings.csv'"
   ]
  },
  {
   "cell_type": "code",
   "execution_count": null,
   "id": "2faa383b",
   "metadata": {},
   "outputs": [],
   "source": [
    "!cat google_ratings.csv"
   ]
  },
  {
   "cell_type": "code",
   "execution_count": null,
   "id": "755aea8f",
   "metadata": {},
   "outputs": [],
   "source": [
    "!cut -d \",\" -f 9 google_ratings.csv"
   ]
  },
  {
   "cell_type": "code",
   "execution_count": null,
   "id": "fde04186",
   "metadata": {},
   "outputs": [],
   "source": [
    "# If we want to pipe these data to another program, we might want to drop the header.\n",
    "!awk \"NR>1\" google_ratings.csv | cut -d \",\" -f9"
   ]
  },
  {
   "cell_type": "code",
   "execution_count": null,
   "id": "e20f3bb1",
   "metadata": {},
   "outputs": [],
   "source": [
    "%%bash\n",
    "# we can also ignore the first row by using -n +NUM where NUM is the row we'll begin outputting on.\n",
    "tail -n +2 google_ratings.csv | cut -d \",\" -f 9"
   ]
  },
  {
   "cell_type": "markdown",
   "id": "92199f23",
   "metadata": {},
   "source": [
    "## tr\n",
    "The tr command can be used to translate and delete charactes.  Some supported options include squeezing repeated characters, deletion and replacement. The -s (squeeze) option is particularly useful when trying to cut columns from fixed-length files.\n",
    "\n",
    "https://linuxhint.com/bash_tr_command/"
   ]
  },
  {
   "cell_type": "code",
   "execution_count": null,
   "id": "1ba808d6",
   "metadata": {},
   "outputs": [],
   "source": [
    "%%bash\n",
    "\n",
    "curl -o 'tucson_daily.txt' 'https://www1.ncdc.noaa.gov/pub/data/uscrn/products/daily01/2022/CRND0103-2022-AZ_Tucson_11_W.txt'\n"
   ]
  },
  {
   "cell_type": "code",
   "execution_count": null,
   "id": "0c237b3f",
   "metadata": {},
   "outputs": [],
   "source": [
    "!head -n 5 tucson_daily.txt | cat"
   ]
  },
  {
   "cell_type": "code",
   "execution_count": null,
   "id": "dfa57763",
   "metadata": {},
   "outputs": [],
   "source": [
    "# the first couple of fields are single whitespace delimited, but as we move through the features\n",
    "# and encounter variable length values, then our delimiters will be variable numbers of whitespace characters.\n",
    "!cut -d ' ' -f 6 tucson_daily.txt"
   ]
  },
  {
   "cell_type": "code",
   "execution_count": null,
   "id": "50666805",
   "metadata": {},
   "outputs": [],
   "source": [
    "!tr -s \" \" < tucson_daily.txt | cut -d \" \" -f 6"
   ]
  },
  {
   "cell_type": "code",
   "execution_count": null,
   "id": "cc6f0ba8",
   "metadata": {},
   "outputs": [],
   "source": [
    "# If we quickly scroll through the isolated column above, we'll see a null value indicator (-9999.0). \n",
    "# Let's remove this from our vector using awk and the !(not) operator.\n",
    "\n",
    "!tr -s \" \" < tucson_daily.txt | cut -d \" \" -f 6 | awk \"!/-9999.0/\""
   ]
  },
  {
   "cell_type": "markdown",
   "id": "019eb0a8",
   "metadata": {},
   "source": [
    "## wc\n",
    "With no options, wc returns line count, word count and character count"
   ]
  },
  {
   "cell_type": "code",
   "execution_count": null,
   "id": "a20ba6a0",
   "metadata": {},
   "outputs": [],
   "source": [
    "!wc hotel.csv"
   ]
  },
  {
   "cell_type": "code",
   "execution_count": null,
   "id": "0f6576d3",
   "metadata": {},
   "outputs": [],
   "source": [
    "!wc -w hotel.csv"
   ]
  },
  {
   "cell_type": "code",
   "execution_count": null,
   "id": "a5888b3c",
   "metadata": {},
   "outputs": [],
   "source": [
    "!wc -l hotel.csv"
   ]
  },
  {
   "cell_type": "markdown",
   "id": "7935fa79",
   "metadata": {},
   "source": [
    "#### -L option for longest length line"
   ]
  },
  {
   "cell_type": "code",
   "execution_count": null,
   "id": "c33c18d2",
   "metadata": {},
   "outputs": [],
   "source": [
    "!wc -L hotel.csv"
   ]
  },
  {
   "cell_type": "markdown",
   "id": "f3662765",
   "metadata": {},
   "source": [
    "#### How many files are currently in the working directory\n"
   ]
  },
  {
   "cell_type": "code",
   "execution_count": null,
   "id": "b91e7c26",
   "metadata": {},
   "outputs": [],
   "source": [
    "! ls | wc -l"
   ]
  },
  {
   "cell_type": "markdown",
   "id": "0a370028",
   "metadata": {},
   "source": [
    "## unzip"
   ]
  },
  {
   "cell_type": "code",
   "execution_count": null,
   "id": "48d97e87",
   "metadata": {},
   "outputs": [],
   "source": [
    "%%bash\n",
    "\n",
    "curl -O 'https://nces.ed.gov/ipeds/datacenter/data/HD2021.zip'\n",
    "ls *.zip"
   ]
  },
  {
   "cell_type": "code",
   "execution_count": null,
   "id": "fcfc3909",
   "metadata": {},
   "outputs": [],
   "source": [
    "!unzip HD2021.zip"
   ]
  },
  {
   "cell_type": "code",
   "execution_count": null,
   "id": "fd5bf1a4",
   "metadata": {},
   "outputs": [],
   "source": [
    "!wc -l hd2021.csv"
   ]
  }
 ],
 "metadata": {
  "kernelspec": {
   "display_name": "tools_venv",
   "language": "python",
   "name": "tools_venv"
  },
  "language_info": {
   "codemirror_mode": {
    "name": "ipython",
    "version": 3
   },
   "file_extension": ".py",
   "mimetype": "text/x-python",
   "name": "python",
   "nbconvert_exporter": "python",
   "pygments_lexer": "ipython3",
   "version": "3.8.10"
  }
 },
 "nbformat": 4,
 "nbformat_minor": 5
}
