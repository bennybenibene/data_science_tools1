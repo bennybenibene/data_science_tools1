{
 "cells": [
  {
   "cell_type": "markdown",
   "id": "59294f8d",
   "metadata": {},
   "source": [
    "# grep"
   ]
  },
  {
   "cell_type": "markdown",
   "id": "440b0f15",
   "metadata": {},
   "source": [
    "#### First we'll use cat to make a simple txt file with what are supposed to be phone numbers."
   ]
  },
  {
   "cell_type": "code",
   "execution_count": null,
   "id": "9f30ff75",
   "metadata": {},
   "outputs": [],
   "source": [
    "%%bash\n",
    "cat > data_to_grep.txt\n",
    "303-456-7545\n",
    "303-7585-5156\n",
    "303-45-84d5\n",
    "720-54885543\n",
    "7205489456\n",
    "7204585214\n",
    "30545224475\n",
    "3034587548\n",
    "7205485425\n",
    "7201212125\n",
    "3030145487\n",
    "30345445458\n",
    "3132548\n",
    "3-32-dd2-*d\n",
    "asdf\n",
    "PHONE NUMBER\n",
    "87201458549\n",
    "97201414141\n",
    "454584\n",
    "303\n",
    "3038748787\n",
    "7204545455\n",
    "7201234564\n",
    "3035455454\n",
    "721212548\n",
    "720-545-8789\n",
    "720-8754569\n",
    "3-03-12-21458\n",
    "30345-545656982\n",
    "3034567845\n",
    "303-125-4578\n"
   ]
  },
  {
   "cell_type": "markdown",
   "id": "eebd864c",
   "metadata": {},
   "source": [
    "#### Suppose we're only interested in valid numbers with area codes 303 and 720.  Below we'll pipe this file to tr and delete (-d) any punctuation characters.  We'll pipe this to grep using the extended regular expression engine.  Our regex will match entries that begin with 303 or 720 and end with seven subsequent digits."
   ]
  },
  {
   "cell_type": "code",
   "execution_count": null,
   "id": "c8385de7",
   "metadata": {},
   "outputs": [],
   "source": [
    "%%bash \n",
    "cat data_to_grep.txt | tr -d '[:punct:]' | grep -E \"^303[[:digit:]]{7}$|^720[[:digit:]]{7}$\""
   ]
  },
  {
   "cell_type": "markdown",
   "id": "831b96bb",
   "metadata": {},
   "source": [
    "#### Notice what happens when we remove the ^ anchor from the or expression."
   ]
  },
  {
   "cell_type": "code",
   "execution_count": null,
   "id": "70163a27",
   "metadata": {},
   "outputs": [],
   "source": [
    "%%bash \n",
    "cat data_to_grep.txt | tr -d '[:punct:]' | grep -E \"^303[[:digit:]]{7}$|720[[:digit:]]{7}$\" | wc -l"
   ]
  },
  {
   "cell_type": "markdown",
   "id": "9e925226",
   "metadata": {},
   "source": [
    "#### Let's experiment with grep's recursive search option (-R), which seraches a directory and all subdirectories.  Running the following cell will make some nested directories.  You can delete these when you're finished with them."
   ]
  },
  {
   "cell_type": "code",
   "execution_count": null,
   "id": "91288aa9",
   "metadata": {
    "scrolled": true
   },
   "outputs": [],
   "source": [
    "%%bash\n",
    "mkdir a_folder\n",
    "mkdir a_folder 2> ./a_folder/error.txt\n",
    "cd a_folder\n",
    "echo -e  \"foo bar\\nnorf spam\\neggs ham\\nfoo\\n\" > a_data.txt\n",
    "mkdir b_folder\n",
    "cp a_data.txt ./b_folder/b_data.txt\n",
    "cd b_folder\n",
    "echo -e 'SPAM\\n' >> b_data.txt\n",
    "cd ../..\n",
    "grep -Ri 'SPAM' a_folder"
   ]
  },
  {
   "cell_type": "markdown",
   "id": "ea7ac318",
   "metadata": {},
   "source": [
    "#### Let's add some duplicate entries to b_data.txt in the b_folder directory and try to detect repeated words."
   ]
  },
  {
   "cell_type": "code",
   "execution_count": null,
   "id": "ee282db4",
   "metadata": {},
   "outputs": [],
   "source": [
    "%%bash\n",
    "echo -e \"foo foo bar\\nbar\\nhello hello hello\\nfoo bar\\n\" >> ./a_folder/b_folder/b_data.txt"
   ]
  },
  {
   "cell_type": "code",
   "execution_count": null,
   "id": "c26e295c",
   "metadata": {},
   "outputs": [],
   "source": [
    "%%bash\n",
    "grep -E \"([[:alpha:]]+) \\1\" < ./a_folder/b_folder/b_data.txt"
   ]
  },
  {
   "cell_type": "markdown",
   "id": "bf94eee6",
   "metadata": {},
   "source": [
    "#### Above we're enclosing the pattern we want to recall with () and using \\1 to reference this pattern.  If we wanted to detect triplicates we can just recall the pattern again."
   ]
  },
  {
   "cell_type": "code",
   "execution_count": null,
   "id": "cbd915bf",
   "metadata": {},
   "outputs": [],
   "source": [
    "%%bash\n",
    "grep -E \"([[:alpha:]]+) \\1 \\1\" < ./a_folder/b_folder/b_data.txt"
   ]
  },
  {
   "cell_type": "markdown",
   "id": "dd7634a6",
   "metadata": {},
   "source": [
    "## awk\n",
    "#### .........and some more grep"
   ]
  },
  {
   "cell_type": "markdown",
   "id": "9b82dc77",
   "metadata": {},
   "source": [
    "#### Let's download another file using curl.  This is data on baby names from the UCI ML repository."
   ]
  },
  {
   "cell_type": "code",
   "execution_count": null,
   "id": "734257c5",
   "metadata": {},
   "outputs": [],
   "source": [
    "%%bash\n",
    "# note -O will download the file with the name provided in the url. -o allows us to redirect output to a specific file name\n",
    "\n",
    "curl -o 'names.csv' 'https://archive.ics.uci.edu/ml/machine-learning-databases/00591/name_gender_dataset.csv'"
   ]
  },
  {
   "cell_type": "markdown",
   "id": "fcf007a2",
   "metadata": {},
   "source": [
    "#### Let's examine the names that begin with 'Ben' or 'Jen'."
   ]
  },
  {
   "cell_type": "code",
   "execution_count": null,
   "id": "76e488b3",
   "metadata": {},
   "outputs": [],
   "source": [
    "%%bash\n",
    "grep -Ei \"^(Ben)|^(Jen)\" names.csv"
   ]
  },
  {
   "cell_type": "markdown",
   "id": "1f8fa43f",
   "metadata": {},
   "source": [
    "#### Now we'll print just the names instead of all four fields."
   ]
  },
  {
   "cell_type": "code",
   "execution_count": null,
   "id": "5fd81bab",
   "metadata": {},
   "outputs": [],
   "source": [
    "%%bash\n",
    "grep -Ei \"^(Ben)|^(Jen)\" names.csv | awk 'BEGIN {FS = \",\"} ; {print $1}'"
   ]
  },
  {
   "cell_type": "markdown",
   "id": "4d299940",
   "metadata": {},
   "source": [
    "#### Now let's count those names and total the number of occurrences."
   ]
  },
  {
   "cell_type": "code",
   "execution_count": null,
   "id": "897b0bf2",
   "metadata": {},
   "outputs": [],
   "source": [
    "%%bash\n",
    "grep -Ei \"^(Ben)|^(Jen)\" names.csv | \n",
    "awk 'BEGIN {total=0; count=0; FS=\",\"} NR>1 {total+=1; count+=$3} END{print \"total: \" total \"\\n\" \"count: \"count}'"
   ]
  },
  {
   "cell_type": "markdown",
   "id": "b00b3cd5",
   "metadata": {},
   "source": [
    "#### What's the cummulative probability of having a name starting with 'Ben' or 'Jen'?"
   ]
  },
  {
   "cell_type": "code",
   "execution_count": null,
   "id": "5cd58522",
   "metadata": {},
   "outputs": [],
   "source": [
    "%%bash\n",
    "grep -Ei \"^(Ben)|^(Jen)\" names.csv | \n",
    "awk 'BEGIN {total=0; FS=\",\"} {total+=$4; print total} END {print \"\\n\" \"total: \" total}'"
   ]
  },
  {
   "cell_type": "code",
   "execution_count": null,
   "id": "f56872d8",
   "metadata": {},
   "outputs": [],
   "source": [
    "#### let's curl another file"
   ]
  },
  {
   "cell_type": "code",
   "execution_count": null,
   "id": "f3417372",
   "metadata": {},
   "outputs": [],
   "source": [
    "!curl -o \"hotel.csv\" \"https://archive.ics.uci.edu/ml/machine-learning-databases/00398/dataset-CalheirosMoroRita-2017.csv\""
   ]
  },
  {
   "cell_type": "markdown",
   "id": "8cd67ba9",
   "metadata": {},
   "source": [
    "#### Now let's count the words"
   ]
  },
  {
   "cell_type": "code",
   "execution_count": null,
   "id": "52e7144b",
   "metadata": {},
   "outputs": [],
   "source": [
    "%%bash\n",
    "cat hotel.csv | grep -Eo \"[[:alpha:]]+\" | sort | uniq -c | sort -nr"
   ]
  },
  {
   "cell_type": "markdown",
   "id": "4380df32",
   "metadata": {},
   "source": [
    "#### Note the difference between the above and below regular expressions.  The first version is only matching words.  The second version is matching numbers as well."
   ]
  },
  {
   "cell_type": "code",
   "execution_count": null,
   "id": "2326370b",
   "metadata": {},
   "outputs": [],
   "source": [
    "%%bash\n",
    "cat hotel.csv | grep -Eo \"\\w+\" | sort | uniq -c"
   ]
  },
  {
   "cell_type": "markdown",
   "id": "37c1125f",
   "metadata": {},
   "source": [
    "#### Ok, let's implement a word count on the hotels data"
   ]
  },
  {
   "cell_type": "code",
   "execution_count": null,
   "id": "642d61ed",
   "metadata": {},
   "outputs": [],
   "source": [
    "%%bash\n",
    "cat hotel.csv | grep -Eo \"\\w+\" | sort | uniq -c | sort -nr | awk 'BEGIN {count=0} {count+=$1} END{print count}'"
   ]
  },
  {
   "cell_type": "markdown",
   "id": "8c408a5c",
   "metadata": {},
   "source": [
    "#### Let's double-check that result using the wc command with the words flag (-w)."
   ]
  },
  {
   "cell_type": "code",
   "execution_count": null,
   "id": "0728a55b",
   "metadata": {},
   "outputs": [],
   "source": [
    "%%bash\n",
    "cat hotel.csv | wc -w"
   ]
  },
  {
   "cell_type": "markdown",
   "id": "2790ee25",
   "metadata": {},
   "source": [
    "#### ..........pretty close"
   ]
  },
  {
   "cell_type": "markdown",
   "id": "771fa6da",
   "metadata": {},
   "source": [
    "## sed\n",
    "https://www.geeksforgeeks.org/sed-command-linux-set-2/"
   ]
  },
  {
   "cell_type": "markdown",
   "id": "e83c82f9",
   "metadata": {},
   "source": [
    "SED is a stream editor.  It performs text transformation.  The most useful feature of sed is search and replace.  SED is used for finding, filtering, text substitution, replacement and text manipulations like insertion, deletion search, etc. SED can be used with regular expressions.  See [here](https://www.grymoire.com/Unix/Sed.html#uh-0) for a good sed overview."
   ]
  },
  {
   "cell_type": "markdown",
   "id": "94951021",
   "metadata": {},
   "source": [
    "#### In sed, s is for substitution.  It changes all occurrrences of the regular expression into a new value.  Let's make some data to experiment with..."
   ]
  },
  {
   "cell_type": "code",
   "execution_count": null,
   "id": "ace7b70d",
   "metadata": {},
   "outputs": [],
   "source": [
    "%%bash\n",
    "cat > some_data_to_sed.txt\n",
    "Colorado is a state. Colorado!\n",
    "What is the shape of Colorado?\n",
    "Is Colorado a big state?\n",
    "Colorado\n"
   ]
  },
  {
   "cell_type": "markdown",
   "id": "0fc636e9",
   "metadata": {},
   "source": [
    "#### Using the s option with the global (g) flag. To replace all instances of Colorado with Indiana. Without the g flag we just replace the first instance of Colorado in each line."
   ]
  },
  {
   "cell_type": "code",
   "execution_count": null,
   "id": "7fac59fd",
   "metadata": {},
   "outputs": [],
   "source": [
    "%%bash\n",
    "sed 's/Colorado/Indiana/g' < some_data_to_sed.txt > sed_out.txt\n",
    "cat sed_out.txt"
   ]
  },
  {
   "cell_type": "markdown",
   "id": "f2c611ae",
   "metadata": {},
   "source": [
    "#### Note that the way we delimit the arguments to sed is conventionally a forward slash, but you can use anything.  Your final sed command should have three of whatever delimiter you choose. Here we'll use a colon."
   ]
  },
  {
   "cell_type": "code",
   "execution_count": null,
   "id": "20370b9e",
   "metadata": {},
   "outputs": [],
   "source": [
    "%%bash\n",
    "sed 's:Indiana:California:g' < sed_out.txt > sed_out2.txt\n",
    "cat sed_out2.txt"
   ]
  },
  {
   "cell_type": "markdown",
   "id": "a2d1dcb4",
   "metadata": {},
   "source": [
    "#### Replacing a pattern with a modified version of that pattern.  In the above examples we've hard-coded our replacement string.  What if we want to match a pattern and replace with a modified version of that pattern.  We can use the '&' character as a refernce to the pattern.  Note that (-E (Mac OS) or -r) invoke extended regular expression engine."
   ]
  },
  {
   "cell_type": "code",
   "execution_count": null,
   "id": "21bd72fc",
   "metadata": {},
   "outputs": [],
   "source": [
    "%%bash\n",
    "sed -r 's/[aeiou]{2,}/(&)/g' < sed_out.txt > sed_out3.txt\n",
    "cat sed_out3.txt"
   ]
  }
 ],
 "metadata": {
  "kernelspec": {
   "display_name": "tools_venv",
   "language": "python",
   "name": "tools_venv"
  },
  "language_info": {
   "codemirror_mode": {
    "name": "ipython",
    "version": 3
   },
   "file_extension": ".py",
   "mimetype": "text/x-python",
   "name": "python",
   "nbconvert_exporter": "python",
   "pygments_lexer": "ipython3",
   "version": "3.8.10"
  }
 },
 "nbformat": 4,
 "nbformat_minor": 5
}
