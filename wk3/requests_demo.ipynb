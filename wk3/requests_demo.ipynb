{
 "cells": [
  {
   "cell_type": "markdown",
   "id": "98e4b59b",
   "metadata": {},
   "source": [
    "# Using requests python module and NASA API"
   ]
  },
  {
   "cell_type": "markdown",
   "id": "1eea4c20",
   "metadata": {},
   "source": [
    "## 1.1 Requests: HTTP for Humans\n",
    "\n",
    "*\"Requests allows you to send organic, grass-fed HTTP/1.1 requests, without the need for manual labor.\"*\n",
    "\n",
    "Let's try to get NASA data using web API"
   ]
  },
  {
   "cell_type": "code",
   "execution_count": null,
   "id": "2b1b5d8c",
   "metadata": {},
   "outputs": [],
   "source": [
    "import requests"
   ]
  },
  {
   "cell_type": "markdown",
   "id": "050985b4",
   "metadata": {},
   "source": [
    "## 1.2 APOD (Astronomy Picture of the Day)\n",
    "For passing parameters to the API using python dictionary"
   ]
  },
  {
   "cell_type": "code",
   "execution_count": null,
   "id": "429e01f9",
   "metadata": {},
   "outputs": [],
   "source": [
    "parameters={'api_key':'<YOUR_KEY>'}\n",
    "response=requests.get(\"https://api.nasa.gov/planetary/apod\", params=parameters)"
   ]
  },
  {
   "cell_type": "code",
   "execution_count": null,
   "id": "20ba3113",
   "metadata": {},
   "outputs": [],
   "source": [
    "print(response.status_code)"
   ]
  },
  {
   "cell_type": "markdown",
   "id": "8d0c84f9",
   "metadata": {},
   "source": [
    "Codes are available as:"
   ]
  },
  {
   "cell_type": "code",
   "execution_count": null,
   "id": "55cdf6fd",
   "metadata": {},
   "outputs": [],
   "source": [
    "requests.codes.ok"
   ]
  },
  {
   "cell_type": "code",
   "execution_count": null,
   "id": "56e8c4f4",
   "metadata": {},
   "outputs": [],
   "source": [
    "# get headers of response object\n",
    "response.headers"
   ]
  },
  {
   "cell_type": "code",
   "execution_count": null,
   "id": "cfe6fe31",
   "metadata": {},
   "outputs": [],
   "source": [
    "# get text attribute of response object. this is the payload.\n",
    "# url for picture is included.\n",
    "response.text"
   ]
  },
  {
   "cell_type": "code",
   "execution_count": null,
   "id": "8f5e971d",
   "metadata": {},
   "outputs": [],
   "source": [
    "json_data=response.json()\n",
    "type(json_data)"
   ]
  },
  {
   "cell_type": "code",
   "execution_count": null,
   "id": "18ea94a3",
   "metadata": {},
   "outputs": [],
   "source": [
    "# pip install pillow"
   ]
  },
  {
   "cell_type": "code",
   "execution_count": null,
   "id": "0884154f",
   "metadata": {},
   "outputs": [],
   "source": [
    "# can get the image on the fly with the following\n",
    "from PIL import Image\n",
    "from io import BytesIO\n",
    "\n",
    "response=requests.get(json_data['url'])\n",
    "img=Image.open(BytesIO(response.content))"
   ]
  },
  {
   "cell_type": "code",
   "execution_count": null,
   "id": "d8e6a7b0",
   "metadata": {},
   "outputs": [],
   "source": [
    "%matplotlib inline\n",
    "import matplotlib.pyplot as plt"
   ]
  },
  {
   "cell_type": "code",
   "execution_count": null,
   "id": "4764aa8a",
   "metadata": {},
   "outputs": [],
   "source": [
    "fig, ax=plt.subplots(figsize=(14, 14))\n",
    "ax.imshow(img)"
   ]
  },
  {
   "cell_type": "markdown",
   "id": "1f81b306",
   "metadata": {},
   "source": [
    "# 1.3 Mars rovers photo"
   ]
  },
  {
   "cell_type": "code",
   "execution_count": null,
   "id": "f522190a",
   "metadata": {},
   "outputs": [],
   "source": [
    "parameters={'api_key':'<YOUR_KEY>'',\n",
    "           'sol': 1000,\n",
    "           'camera': 'FHAZ'}\n",
    "api_end_point='https://api.nasa.gov/mars-photos/api/v1/rovers/curiosity/photos'\n",
    "response=requests.get(api_end_point, params=parameters)\n",
    "response.status_code"
   ]
  },
  {
   "cell_type": "code",
   "execution_count": null,
   "id": "d7ab8029",
   "metadata": {},
   "outputs": [],
   "source": [
    "json_data=response.json()\n",
    "# the data is nothing but a dictionary\n",
    "json_data"
   ]
  },
  {
   "cell_type": "code",
   "execution_count": null,
   "id": "01f84237",
   "metadata": {},
   "outputs": [],
   "source": [
    "%matplotlib inline\n",
    "for image_data in json_data['photos']:\n",
    "    response=requests.get(image_data['img_src'])\n",
    "    fig, ax=plt.subplots(figsize=(14, 14))\n",
    "    img=Image.open(BytesIO(response.content))\n",
    "    ax.imshow(img)"
   ]
  },
  {
   "cell_type": "markdown",
   "id": "918d4775",
   "metadata": {},
   "source": [
    "# NASA Techport API"
   ]
  },
  {
   "cell_type": "markdown",
   "id": "d8df2b7b",
   "metadata": {},
   "source": [
    "Take a look at the Techport API documentation."
   ]
  },
  {
   "cell_type": "code",
   "execution_count": null,
   "id": "5bf253b2",
   "metadata": {},
   "outputs": [],
   "source": [
    "project_id = 93128\n",
    "api_end_point = f\"https://api.nasa.gov/techport/api/projects/{project_id}\"\n",
    "parameters={'api_key':'<YOUR_KEY>'}\n",
    "\n",
    "response=requests.get(api_end_point, params=parameters)\n",
    "response.status_code"
   ]
  },
  {
   "cell_type": "code",
   "execution_count": null,
   "id": "55e13adf",
   "metadata": {},
   "outputs": [],
   "source": [
    "json_data=response.json()\n",
    "# the data is nothing but a dictionary\n",
    "json_data['project']['benefits']"
   ]
  },
  {
   "cell_type": "markdown",
   "id": "93fef9d0",
   "metadata": {},
   "source": [
    "# 2 Using REST API for Collecting Tweets with POST and GET\n",
    "## Note that Twitter has upgraded the API to v2.  "
   ]
  },
  {
   "cell_type": "markdown",
   "id": "1ca8add5",
   "metadata": {},
   "source": [
    "1. Sign up for an account (access level Essential)\n",
    "2. Creat a new app (this will generate a client key, secret key and bearer token)\n",
    "3. Review the API documentation\n",
    "\n",
    "See [here](https://developer.twitter.com/en/docs/api-reference-index) for a complete list of endpoints.  It's a good idea to stick to the Search Tweets endpoints (recent and full-archive) to start."
   ]
  },
  {
   "cell_type": "markdown",
   "id": "d4d8993a",
   "metadata": {},
   "source": [
    "# 3 POST OAuth2.0/token (for application only authentication)"
   ]
  },
  {
   "cell_type": "code",
   "execution_count": null,
   "id": "8ed82996",
   "metadata": {},
   "outputs": [],
   "source": [
    "# reading the api key and api key secret from a local file\n",
    "import requests\n",
    "import json\n",
    "import base64\n",
    "\n",
    "with open('twitter_keys.txt') as f:\n",
    "    lines = f.readlines()\n",
    "client_key=lines[0][:-1]\n",
    "client_secret=lines[1][:-1]\n",
    "# bearer token\n",
    "bearer_token=lines[2]"
   ]
  },
  {
   "cell_type": "code",
   "execution_count": null,
   "id": "cd1aa690",
   "metadata": {},
   "outputs": [],
   "source": [
    "# Note that we'll be making App only requests which only require the bearer token.\n",
    "# generating bearer_token...note that we can just get the bearer token from the web interface as well.\n",
    "\n",
    "# first convert the str to a bytes-like object\n",
    "key_secret = '{}:{}'.format(client_key, client_secret).encode('ascii')\n",
    "# encode with base64\n",
    "b64_encoded_key = base64.b64encode(key_secret)\n",
    "# get string representation of the base64 encoding.\n",
    "b64_encoded_key = b64_encoded_key.decode('ascii')\n",
    "\n",
    "auth_endpoint='https://api.twitter.com/oauth2/token'\n",
    "\n",
    "auth_headers = {'Authorization': 'Basic {}'.format(b64_encoded_key),\n",
    "               'Content-Type': 'application/x-www-form-urlencoded;charset=UTF-8'}\n",
    "auth_data = {'grant_type': 'client_credentials'}\n",
    "\n",
    "response = requests.post(auth_endpoint, headers=auth_headers, data=auth_data)\n",
    "\n",
    "#print(response.status_code)\n",
    "#print(response.text)\n",
    "\n",
    "json_data = response.json()\n",
    "bearer_token = json_data['access_token']"
   ]
  },
  {
   "cell_type": "markdown",
   "id": "0e5d71e4",
   "metadata": {},
   "source": [
    "# Asynch Ex: Let's Run Some Queries Against the Twitter API"
   ]
  },
  {
   "cell_type": "markdown",
   "id": "f0431ff9",
   "metadata": {},
   "source": [
    "#### We need to build our query\n",
    "[See here](https://developer.twitter.com/en/docs/twitter-api/tweets/search/integrate/build-a-query) for information on building queries to search Tweets.\n",
    "\n",
    "The documentation on [building high-level queries](https://developer.twitter.com/en/docs/tutorials/building-high-quality-filters) is also helpful.\n",
    "\n",
    "The search endpoints accept a single query with a GET request and return a set of historical Tweets that match the query.  Queries are made up of operators that are used to match on a variety of Tweet attributes. \n",
    "\n",
    "__Operators__ are used to match tweets.  You can find a table of operators [here](https://developer.twitter.com/en/docs/twitter-api/tweets/search/integrate/build-a-query#list).\n",
    "\n",
    "There are two types of operators. Standalone and conjunction-required.\n",
    "\n",
    "__Standalone__ can be used alone or with any other operators.  For example, the #hashtag operator is standalone, so this is a valid query: #bananastand\n",
    "\n",
    "__Conjunction-required operators__ cannont be used alone in a query.  They can be used when at least one standalone operator is included in the query....using conjunction-required alone would be too general."
   ]
  },
  {
   "cell_type": "markdown",
   "id": "04440063",
   "metadata": {},
   "source": [
    "The response fields for recent Tweet search can be found [here](https://developer.twitter.com/en/docs/twitter-api/tweets/search/api-reference/get-tweets-search-recent)\n",
    "\n",
    "We can also use boolean operators and grouping to string together multiple operators in a single query. We have access to AND, OR, NOT.  Prepend a dash (-) to a keyword or operator to negate it. For example -hotdog or -is:retweet. \n",
    "\n",
    "We can group with parentheses. For example, (hot dog) OR (#hotdog has:images) will return either Tweets containing the words hot and dog or Tweets with images that have the hashtag #hotdog.  This is not an XOR.\n",
    "\n",
    "Feel free to use the Twitter [query builder](https://developer.twitter.com/apitools/query?query=) when crafting your queries.  Actually...definitely use it.  This tool will help you get comfortable with the query syntax and will validate queries for you."
   ]
  },
  {
   "cell_type": "markdown",
   "id": "ff6f263e",
   "metadata": {},
   "source": [
    "## Let's run a very simple query"
   ]
  },
  {
   "cell_type": "code",
   "execution_count": null,
   "id": "244c80cb",
   "metadata": {},
   "outputs": [],
   "source": [
    "from pprint import pprint"
   ]
  },
  {
   "cell_type": "code",
   "execution_count": null,
   "id": "75cbb34d",
   "metadata": {},
   "outputs": [],
   "source": [
    "# Example 1\n",
    "\n",
    "# specify the endpoint\n",
    "endpoint = \"https://api.twitter.com/2/tweets/search/recent\"\n",
    "\n",
    "# create header object with bearer_token\n",
    "headers = {'Authorization': 'Bearer {}'.format(bearer_token)}\n",
    "\n",
    "# specify query \n",
    "query = \"John Cheever\"\n",
    "\n",
    "# specify tweet_fields\n",
    "tweet_fields = 'tweet.fields=text'\n",
    "\n",
    "# specify max results (optional)\n",
    "max_results = 'max_results=10'\n",
    "\n",
    "# create the url for request\n",
    "url = endpoint + \"?query=\" + query + \"&\" + tweet_fields + \"&\" + max_results\n",
    "\n",
    "print(url)\n",
    "# make the request\n",
    "response = requests.request(\"GET\", url, headers=headers)\n",
    "\n",
    "print(response.status_code)\n",
    "\n",
    "#data = response.json()\n",
    "#pprint.pprint(data)"
   ]
  },
  {
   "cell_type": "code",
   "execution_count": null,
   "id": "9ad59bd2",
   "metadata": {},
   "outputs": [],
   "source": [
    "data = response.json()\n",
    "pprint(data)"
   ]
  },
  {
   "cell_type": "markdown",
   "id": "19f9cfe9",
   "metadata": {},
   "source": [
    "#### And now a slightly more complex query...."
   ]
  },
  {
   "cell_type": "code",
   "execution_count": null,
   "id": "37d2e627",
   "metadata": {},
   "outputs": [],
   "source": [
    "# specify query\n",
    "query = '\"climate change\" is:verified -is:retweet lang:en'\n",
    "\n",
    "# specify field for payload\n",
    "tweet_fields = \"tweet.fields=text,id,author_id,created_at\"\n",
    "\n",
    "# specify max results (optional)\n",
    "max_results = 'max_results=10'\n",
    "\n",
    "# get expanded author_id object\n",
    "#expansions = \"expansions=author_id\"\n",
    "\n",
    "# create the url for request\n",
    "url = endpoint + \"?query=\" + query + \"&\" + tweet_fields + \"&\" + max_results\n",
    "\n",
    "# make the request\n",
    "response = requests.request(\"GET\", url, headers=headers)\n",
    "\n",
    "print(response.status_code)\n",
    "\n",
    "cc_data = response.json()\n",
    "pprint(cc_data)"
   ]
  },
  {
   "cell_type": "markdown",
   "id": "392b29a1",
   "metadata": {},
   "source": [
    "# EX 1: Modularizing our Approach\n",
    "Now we'll modularize our code a bit by building a function to execute our request."
   ]
  },
  {
   "cell_type": "code",
   "execution_count": null,
   "id": "9bb11b73",
   "metadata": {},
   "outputs": [],
   "source": [
    "def search_twitter(query, tweet_fields, max_results=10, bearer_token=bearer_token):\n",
    "    headers = {\"Authorization\": \"Bearer {}\".format(bearer_token)}\n",
    "\n",
    "    url = \"https://api.twitter.com/2/tweets/search/recent?query={}&{}&max_results={}\".format(\n",
    "        query, tweet_fields, max_results\n",
    "    )\n",
    "    response = requests.request(\"GET\", url, headers=headers)\n",
    "\n",
    "    print(response.status_code)\n",
    "\n",
    "    if response.status_code != 200:\n",
    "        raise Exception(response.status_code, response.text)\n",
    "    return response.json()"
   ]
  },
  {
   "cell_type": "markdown",
   "id": "dd8f84cd",
   "metadata": {},
   "source": [
    "#### Let's look for a single term.  Note the quoting.  I want to find instances of \"pickle ball\" not instances of \"pickle\" and \"ball\"."
   ]
  },
  {
   "cell_type": "code",
   "execution_count": null,
   "id": "5bcc6bd0",
   "metadata": {},
   "outputs": [],
   "source": [
    "query = '\"pickle ball\"'\n",
    "tweet_fields = 'tweet.fields=text,author_id,created_at'\n",
    "max_results = 10\n",
    "\n",
    "json_response=search_twitter(query=query,\n",
    "                             tweet_fields=tweet_fields,\n",
    "                             max_results=max_results,\n",
    "                             bearer_token=bearer_token)\n",
    "\n",
    "pprint(json_response)"
   ]
  },
  {
   "cell_type": "markdown",
   "id": "0a34c06f",
   "metadata": {},
   "source": [
    "#### Now a more complex query..."
   ]
  },
  {
   "cell_type": "code",
   "execution_count": null,
   "id": "9b3cc9b6",
   "metadata": {},
   "outputs": [],
   "source": [
    "# Example 2\n",
    "query = '\"stranger things\" has:mentions -is:retweet (has:media OR has:links)'\n",
    "tweet_fields = 'tweet.fields=text,author_id,created_at'\n",
    "\n",
    "json_response=search_twitter(query=query,tweet_fields=tweet_fields,bearer_token=bearer_token)\n",
    "pprint(json_response)"
   ]
  },
  {
   "cell_type": "markdown",
   "id": "db540820",
   "metadata": {},
   "source": [
    "# Ex2 More Sophisticated Query\n",
    "\n",
    "We've mostly focused on the query, but the request we submit has other paramters that can be specified as well.  We've already used some of them (max_results, tweet_fields).  Each endpoint will detail the parameters we can specify.  For recent tweet search only the query is a required parameter."
   ]
  },
  {
   "cell_type": "code",
   "execution_count": null,
   "id": "c9797f00",
   "metadata": {},
   "outputs": [],
   "source": [
    "def connect_to_endpoint(url, headers, params):\n",
    "    \n",
    "    response = requests.get(url, headers=headers, params=params)\n",
    "    \n",
    "    print(response.status_code)\n",
    "    if response.status_code != 200:\n",
    "        raise Exception(response.status_code, response.text)\n",
    "    return response.json()"
   ]
  },
  {
   "cell_type": "code",
   "execution_count": null,
   "id": "be692f0a",
   "metadata": {},
   "outputs": [],
   "source": [
    "url = \"https://api.twitter.com/2/tweets/search/recent\"\n",
    "\n",
    "headers = {\"Authorization\": \"Bearer {}\".format(bearer_token)} \n",
    "\n",
    "query_params = {'query': '\"Russell Wilson\" \"Hackett\" has:mentions -is:retweet has:media is:verified has:images',\n",
    "                'max_results': 10,\n",
    "                'tweet.fields': 'id,author_id,text,geo,conversation_id',\n",
    "                'expansions': 'author_id,geo.place_id',\n",
    "                'user.fields': 'name,username,verified,location',\n",
    "                'place.fields': 'country_code,geo,name,place_type'}"
   ]
  },
  {
   "cell_type": "code",
   "execution_count": null,
   "id": "6c14b6a4",
   "metadata": {},
   "outputs": [],
   "source": [
    "data = connect_to_endpoint(url, headers, query_params)"
   ]
  },
  {
   "cell_type": "code",
   "execution_count": null,
   "id": "a6b1fc16",
   "metadata": {},
   "outputs": [],
   "source": [
    "pprint(data)"
   ]
  }
 ],
 "metadata": {
  "kernelspec": {
   "display_name": "tools_venv",
   "language": "python",
   "name": "tools_venv"
  },
  "language_info": {
   "codemirror_mode": {
    "name": "ipython",
    "version": 3
   },
   "file_extension": ".py",
   "mimetype": "text/x-python",
   "name": "python",
   "nbconvert_exporter": "python",
   "pygments_lexer": "ipython3",
   "version": "3.8.10"
  }
 },
 "nbformat": 4,
 "nbformat_minor": 5
}
