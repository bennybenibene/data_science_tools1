{
 "cells": [
  {
   "cell_type": "markdown",
   "id": "c8f057c8",
   "metadata": {
    "slideshow": {
     "slide_type": "slide"
    }
   },
   "source": [
    "# L1 Markdown Heading\n",
    "## L2 Markdown Heading\n",
    "### L3 Markdown Heading\n",
    "#### L4 Markdown Heading\n",
    "##### L5 Markdown Heading"
   ]
  },
  {
   "cell_type": "markdown",
   "id": "0463607d",
   "metadata": {
    "slideshow": {
     "slide_type": "skip"
    }
   },
   "source": [
    "***"
   ]
  },
  {
   "cell_type": "markdown",
   "id": "c519c830",
   "metadata": {
    "slideshow": {
     "slide_type": "subslide"
    }
   },
   "source": [
    "<h1>L1 HTML Heading</h1>\n",
    "<h2>L1 HTML Heading</h2>\n",
    "<h3>L1 HTML Heading</h3>\n",
    "<h4>L1 HTML Heading</h4>\n",
    "<h5>L1 HTML Heading</h5>"
   ]
  },
  {
   "cell_type": "markdown",
   "id": "5d0c8aa4",
   "metadata": {
    "slideshow": {
     "slide_type": "skip"
    }
   },
   "source": [
    "***"
   ]
  },
  {
   "cell_type": "markdown",
   "id": "e52c4357",
   "metadata": {
    "slideshow": {
     "slide_type": "slide"
    }
   },
   "source": [
    "**Markdown bold with asterisks: use ****\n",
    "\n",
    "__Markdown bold with undescores: use ____\n",
    "\n",
    "<strong>Bold with HTML: use \\<strong></strong>"
   ]
  },
  {
   "cell_type": "markdown",
   "id": "08979203",
   "metadata": {
    "slideshow": {
     "slide_type": "skip"
    }
   },
   "source": [
    "***"
   ]
  },
  {
   "cell_type": "markdown",
   "id": "cf8bb6be",
   "metadata": {
    "slideshow": {
     "slide_type": "subslide"
    }
   },
   "source": [
    "*Markdown italics: use **\n",
    "\n",
    "_Markdown italics: use __\n",
    "\n",
    "<em>HTML italics: use \\<em></em>"
   ]
  },
  {
   "cell_type": "markdown",
   "id": "06c896da",
   "metadata": {
    "slideshow": {
     "slide_type": "skip"
    }
   },
   "source": [
    "***"
   ]
  },
  {
   "cell_type": "markdown",
   "id": "09ad7327",
   "metadata": {
    "slideshow": {
     "slide_type": "subslide"
    }
   },
   "source": [
    "***Markdown bold and italic***\n",
    "\n",
    "**_Markdown bold and italic_**\n",
    "\n",
    "<strong><em>HTML bold and italic</em></strong>"
   ]
  },
  {
   "cell_type": "markdown",
   "id": "a6d2a088",
   "metadata": {
    "slideshow": {
     "slide_type": "skip"
    }
   },
   "source": [
    "***"
   ]
  },
  {
   "cell_type": "markdown",
   "id": "3d251f14",
   "metadata": {
    "slideshow": {
     "slide_type": "slide"
    }
   },
   "source": [
    "<font color = \"red\" size = \"2\"> HTML4 Font Tag, size = 4 and color = red </font>\n",
    "\n",
    "<font color = \"##676e80\" size = \"3\" face = \"Times New Roman\">  HTML4 Font Tag with HEX color in Times New Roman </font>\n",
    "\n",
    "<font color = \"blue\" size = \"4\" face = \"WildWest\">  HTML4 Font Tag color = blue and size = 4 in WildWest </font>\n",
    "\n",
    "<font color = \"#c932ae\" size = \"5\" face = \"Comic sans MS\">  HTML4 Font Tag with HEX color and size = 5 in Comic sans MS </font>"
   ]
  },
  {
   "cell_type": "markdown",
   "id": "460f1004",
   "metadata": {},
   "source": [
    "***"
   ]
  },
  {
   "cell_type": "markdown",
   "id": "5abf7cbc",
   "metadata": {
    "slideshow": {
     "slide_type": "slide"
    }
   },
   "source": [
    "> We can make blockquotes with >\n",
    ">> We can nest these as well by using multiple >\n",
    ">>> Third-level block quote...\n",
    ">>>\n",
    ">>> spanning two lines."
   ]
  },
  {
   "cell_type": "markdown",
   "id": "9a256a2a",
   "metadata": {
    "slideshow": {
     "slide_type": "skip"
    }
   },
   "source": [
    "***"
   ]
  },
  {
   "cell_type": "markdown",
   "id": "bfa03ae4",
   "metadata": {
    "slideshow": {
     "slide_type": "subslide"
    }
   },
   "source": [
    "<samp>Here is some monospaced text using HTML</samp>\n",
    "\n",
    "Here is regular text.\n",
    "\n",
    "<ins>Here is underlined text using HTML</ins>\n",
    "\n",
    "~~And finally some strikethrough using tilda.~~\n"
   ]
  },
  {
   "cell_type": "markdown",
   "id": "e851139c",
   "metadata": {
    "slideshow": {
     "slide_type": "skip"
    }
   },
   "source": [
    "***"
   ]
  },
  {
   "cell_type": "markdown",
   "id": "f39747b2",
   "metadata": {
    "slideshow": {
     "slide_type": "slide"
    }
   },
   "source": [
    "<h2> Here is some superscript and subscript using HTML tags...</h2>\n",
    "    \n",
    "Here is some<sup>superscript</sup>\n",
    "\n",
    "Here is some<sub>subscript</sub>"
   ]
  },
  {
   "cell_type": "markdown",
   "id": "f18d5d0f",
   "metadata": {
    "slideshow": {
     "slide_type": "skip"
    }
   },
   "source": [
    "***"
   ]
  },
  {
   "cell_type": "markdown",
   "id": "d24cdc5d",
   "metadata": {
    "slideshow": {
     "slide_type": "slide"
    }
   },
   "source": [
    "We can use backticks in order to highlight words.  For example, maybe we want so call out a `word`."
   ]
  },
  {
   "cell_type": "markdown",
   "id": "557fb5ee",
   "metadata": {
    "slideshow": {
     "slide_type": "slide"
    }
   },
   "source": [
    "Here is a link: [Craig T. Nelson](https://en.wikipedia.org/wiki/Craig_T._Nelson)"
   ]
  },
  {
   "cell_type": "markdown",
   "id": "5a22c264",
   "metadata": {
    "slideshow": {
     "slide_type": "skip"
    }
   },
   "source": [
    "***"
   ]
  },
  {
   "cell_type": "markdown",
   "id": "bef8df97",
   "metadata": {
    "slideshow": {
     "slide_type": "slide"
    }
   },
   "source": [
    "<img src=\"https://prod-images.tcm.com/Master-Profile-Images/CraigTNelson.139821.jpg\" width=\"400\" height=\"400\"/>"
   ]
  },
  {
   "cell_type": "markdown",
   "id": "a894f50e",
   "metadata": {
    "slideshow": {
     "slide_type": "skip"
    }
   },
   "source": [
    "_________________________________________"
   ]
  },
  {
   "cell_type": "markdown",
   "id": "5e045ce3",
   "metadata": {
    "slideshow": {
     "slide_type": "slide"
    }
   },
   "source": [
    "<h3 align='left'>Left aligned L3 Heading</h3>\n",
    "\n",
    "<h3 align='center'>Center aligned L3 Heading</h3>\n",
    "\n",
    "<h3 align='right'>Right aligned L3 Heading</h3>"
   ]
  },
  {
   "cell_type": "markdown",
   "id": "6902379a",
   "metadata": {
    "slideshow": {
     "slide_type": "skip"
    }
   },
   "source": [
    "***"
   ]
  },
  {
   "cell_type": "markdown",
   "id": "d8d3c5d0",
   "metadata": {
    "slideshow": {
     "slide_type": "slide"
    }
   },
   "source": [
    "## Embedding a GIF"
   ]
  },
  {
   "cell_type": "markdown",
   "id": "b466a3ec",
   "metadata": {
    "slideshow": {
     "slide_type": "subslide"
    }
   },
   "source": [
    "<img src='http://i0.wp.com/www.dailycal.org/assets/uploads/2014/10/clog.tired_.singampalli1.gif?resize=702,341'/>"
   ]
  },
  {
   "cell_type": "markdown",
   "id": "3cff6031",
   "metadata": {},
   "source": [
    "<ul>\n",
    "    <li>Item One</li>\n",
    "    <li>Item Two</li>\n",
    "    <li>Item Three</li>\n",
    "    <li>Item Four</li>"
   ]
  },
  {
   "cell_type": "markdown",
   "id": "3dfe1505",
   "metadata": {},
   "source": [
    "***"
   ]
  },
  {
   "cell_type": "markdown",
   "id": "408f4823",
   "metadata": {},
   "source": [
    "- Point One\n",
    "    + Sub-point 1a\n",
    "    + Sub-point 1b\n",
    "- Point Two\n",
    "    + Sub-point 2a\n",
    "    +Sub-point 2b"
   ]
  },
  {
   "cell_type": "markdown",
   "id": "a803c08e",
   "metadata": {},
   "source": [
    "***"
   ]
  },
  {
   "cell_type": "markdown",
   "id": "66693f60",
   "metadata": {},
   "source": [
    "<h3 align='left'>Markdown Table</h3>\n",
    "\n",
    "|Header1|Header2|Header3|\n",
    "|---|---|---|\n",
    "|foo|bar|norf|\n",
    "|ham|spam|eggs|\n",
    "\n",
    "*Note: The number of hyphens used to designate the headers is arbitrary, but you need at least three hypens and colons.*"
   ]
  },
  {
   "cell_type": "markdown",
   "id": "c49775c2",
   "metadata": {},
   "source": [
    "***"
   ]
  },
  {
   "cell_type": "markdown",
   "id": "e309e65e",
   "metadata": {},
   "source": [
    "<h3 align='left'>HTML Table</h3>\n",
    "\n",
    "<table>\n",
    "    <thead>\n",
    "      <tr>\n",
    "         <th>Header1</th>\n",
    "         <th>Header2</th>\n",
    "         <th>Header3</th>\n",
    "      </tr>\n",
    "    </thead>\n",
    "    <tbody>\n",
    "      <tr>\n",
    "         <td>foo</td>\n",
    "         <td>bar</td>\n",
    "         <td>norf</td>\n",
    "      </tr>\n",
    "      <tr>\n",
    "         <td>ham</td>\n",
    "         <td>spam</td>\n",
    "         <td>eggs</td>\n",
    "      </tr>\n",
    "    </tbody>\n",
    "</table>"
   ]
  },
  {
   "cell_type": "markdown",
   "id": "de9126c2",
   "metadata": {},
   "source": [
    "***"
   ]
  },
  {
   "cell_type": "markdown",
   "id": "eebce1a5",
   "metadata": {},
   "source": [
    "#### Rise Slideshow\n",
    "\n",
    "The rise slideshow button is on the top toolbar.  Press this button to enter slideshow mode. Go to the 'View' menu and select 'Cell Toolbar' then 'Slideshow' in order to arrange your slides. When in slideshow mode use the spacebar to navigate through the slides."
   ]
  }
 ],
 "metadata": {
  "kernelspec": {
   "display_name": "tools_venv",
   "language": "python",
   "name": "tools_venv"
  },
  "language_info": {
   "codemirror_mode": {
    "name": "ipython",
    "version": 3
   },
   "file_extension": ".py",
   "mimetype": "text/x-python",
   "name": "python",
   "nbconvert_exporter": "python",
   "pygments_lexer": "ipython3",
   "version": "3.8.10"
  }
 },
 "nbformat": 4,
 "nbformat_minor": 5
}
