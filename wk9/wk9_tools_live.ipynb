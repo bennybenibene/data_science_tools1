{
 "cells": [
  {
   "cell_type": "markdown",
   "id": "05486d10",
   "metadata": {},
   "source": [
    "## COMP 4447: Wk9 Live"
   ]
  },
  {
   "cell_type": "code",
   "execution_count": 64,
   "id": "7ef8fce1",
   "metadata": {},
   "outputs": [],
   "source": [
    "import pandas as pd\n",
    "from pandas import DataFrame\n",
    "import seaborn as sns\n",
    "from matplotlib import pyplot as plt\n",
    "import numpy as np\n",
    "from datetime import datetime"
   ]
  },
  {
   "cell_type": "code",
   "execution_count": 4,
   "id": "a96069b6",
   "metadata": {},
   "outputs": [
    {
     "name": "stdout",
     "output_type": "stream",
     "text": [
      "-1.9317880628477724e-16\n",
      "1.005037815259212\n"
     ]
    }
   ],
   "source": [
    "# standardization (z-normalization)\n",
    "\n",
    "from sklearn.preprocessing import StandardScaler\n",
    "\n",
    "df = DataFrame({'feat': np.random.rand(100)*100})\n",
    "\n",
    "ss = StandardScaler()\n",
    "\n",
    "df['feat_z'] = ss.fit_transform(df[['feat']])\n",
    "\n",
    "print(df['feat_z'].mean())\n",
    "print(df['feat_z'].std())"
   ]
  },
  {
   "cell_type": "code",
   "execution_count": 8,
   "id": "c069d7d9",
   "metadata": {},
   "outputs": [
    {
     "name": "stdout",
     "output_type": "stream",
     "text": [
      "-0.013356530989515374\n",
      "0.6393485566074506\n"
     ]
    }
   ],
   "source": [
    "from sklearn.preprocessing import RobustScaler\n",
    "\n",
    "rs = RobustScaler()\n",
    "\n",
    "df['feat_r_scale'] = rs.fit_transform(df[['feat']])\n",
    "\n",
    "print(df['feat_r_scale'].mean())\n",
    "print(df['feat_r_scale'].std())"
   ]
  },
  {
   "cell_type": "code",
   "execution_count": 9,
   "id": "395e476d",
   "metadata": {},
   "outputs": [
    {
     "name": "stdout",
     "output_type": "stream",
     "text": [
      "1.0\n",
      "0.0\n"
     ]
    }
   ],
   "source": [
    "from sklearn.preprocessing import MinMaxScaler\n",
    "\n",
    "mm = MinMaxScaler()\n",
    "\n",
    "df['feat_norm'] = mm.fit_transform(df[['feat']])\n",
    "\n",
    "print(df['feat_norm'].max())\n",
    "print(df['feat_norm'].min())\n",
    "\n",
    "# Note that sklearn Normalizer() operates row-wise and scales samples to unit norm.  We're concerned with normalizing columns\n",
    "# at the moment and should use MinMaxScaler()"
   ]
  },
  {
   "cell_type": "code",
   "execution_count": 19,
   "id": "9bb42674",
   "metadata": {},
   "outputs": [
    {
     "data": {
      "text/plain": [
       "Text(0.5, 1.0, 'min-max')"
      ]
     },
     "execution_count": 19,
     "metadata": {},
     "output_type": "execute_result"
    },
    {
     "data": {
      "image/png": "[encoded data removed]",
      "text/plain": [
       "<Figure size 720x576 with 3 Axes>"
      ]
     },
     "metadata": {
      "needs_background": "light"
     },
     "output_type": "display_data"
    }
   ],
   "source": [
    "# note that these transformations aren't really changing the shapes of our distributions\n",
    "\n",
    "fig, axes = plt.subplots(1, 3, figsize=(10, 8))\n",
    "\n",
    "sns.histplot(data=df, x='feat_z', bins='sqrt', ax=axes[0])\n",
    "axes[0].set_title('z-score')\n",
    "\n",
    "sns.histplot(data=df, x='feat_r_scale', bins='sqrt', ax=axes[1])\n",
    "axes[1].set_title('robust scaler')\n",
    "\n",
    "sns.histplot(data=df, x='feat_norm', bins='sqrt', ax=axes[2])\n",
    "axes[2].set_title('min-max')"
   ]
  },
  {
   "cell_type": "code",
   "execution_count": 17,
   "id": "78426bb9",
   "metadata": {},
   "outputs": [
    {
     "data": {
      "text/plain": [
       "(-2.0, 2.0)"
      ]
     },
     "execution_count": 17,
     "metadata": {},
     "output_type": "execute_result"
    },
    {
     "data": {
      "image/png": "[encoded data removed]",
      "text/plain": [
       "<Figure size 720x576 with 3 Axes>"
      ]
     },
     "metadata": {
      "needs_background": "light"
     },
     "output_type": "display_data"
    }
   ],
   "source": [
    "# There is an impact on the range of the transformed features.\n",
    "\n",
    "fig, axes = plt.subplots(1, 3, figsize=(10, 8))\n",
    "\n",
    "sns.histplot(data=df, x='feat_z', bins='sqrt', ax=axes[0])\n",
    "axes[0].set_title('z-score')\n",
    "axes[0].set_xlim([-2, 2])\n",
    "\n",
    "sns.histplot(data=df, x='feat_r_scale', bins='sqrt', ax=axes[1])\n",
    "axes[1].set_title('robust scaler')\n",
    "axes[1].set_xlim([-2, 2])\n",
    "\n",
    "sns.histplot(data=df, x='feat_norm', bins='sqrt', ax=axes[2])\n",
    "axes[2].set_title('min-max')\n",
    "axes[2].set_xlim([-2, 2])"
   ]
  },
  {
   "cell_type": "markdown",
   "id": "f2248b32",
   "metadata": {},
   "source": [
    "### strptime vs strftime"
   ]
  },
  {
   "cell_type": "code",
   "execution_count": 66,
   "id": "38e57d9c",
   "metadata": {},
   "outputs": [
    {
     "data": {
      "text/plain": [
       "'11/15/2022 01:01:01'"
      ]
     },
     "execution_count": 66,
     "metadata": {},
     "output_type": "execute_result"
    }
   ],
   "source": [
    "# first of all, as you've probably noticed, pd.datetime is deprecated.\n",
    "# just use datetime from the datetime module...which is what pandas used anyway.\n",
    "\n",
    "# strptime(): Parse string. Convert string to dattime object\n",
    "\n",
    "str_date = '11/15/2022 01:01:01'\n",
    "dt = datetime.strptime(str_date, '%m/%d/%Y %H:%M:%S')\n",
    "\n",
    "# strftime(): Format string. Convert datetime object to string.\n",
    "datetime.strftime(dt, '%m/%d/%Y %H:%M:%S')\n"
   ]
  },
  {
   "cell_type": "code",
   "execution_count": 70,
   "id": "b61ca3f9",
   "metadata": {},
   "outputs": [
    {
     "data": {
      "text/plain": [
       "'11/15/2022 01:01:01'"
      ]
     },
     "execution_count": 70,
     "metadata": {},
     "output_type": "execute_result"
    }
   ],
   "source": [
    "# or\n",
    "dt.strftime('%m/%d/%Y %H:%M:%S')"
   ]
  },
  {
   "cell_type": "markdown",
   "id": "8ed0720d",
   "metadata": {},
   "source": [
    "## Let's curl some data"
   ]
  },
  {
   "cell_type": "code",
   "execution_count": 23,
   "id": "7a3f0f47",
   "metadata": {},
   "outputs": [
    {
     "name": "stdout",
     "output_type": "stream",
     "text": [
      "  % Total    % Received % Xferd  Average Speed   Time    Time     Time  Current\n",
      "                                 Dload  Upload   Total   Spent    Left  Speed\n",
      "100 66136  100 66136    0     0   101k      0 --:--:-- --:--:-- --:--:--  101k\n"
     ]
    }
   ],
   "source": [
    "!curl -O https://archive.ics.uci.edu/ml/machine-learning-databases/00445/Absenteeism_at_work_AAA.zip"
   ]
  },
  {
   "cell_type": "code",
   "execution_count": 24,
   "id": "33b1b368",
   "metadata": {},
   "outputs": [
    {
     "name": "stdout",
     "output_type": "stream",
     "text": [
      "Archive:  Absenteeism_at_work_AAA.zip\r\n",
      "  inflating: Absenteeism_at_work.arff  \r\n",
      "  inflating: Absenteeism_at_work.csv  \r\n",
      "  inflating: Absenteeism_at_work.xls  \r\n",
      "  inflating: Attribute Information.docx  \r\n",
      "  inflating: UCI_ABS_TEXT.docx       \r\n"
     ]
    }
   ],
   "source": [
    "!unzip Absenteeism_at_work_AAA.zip"
   ]
  },
  {
   "cell_type": "code",
   "execution_count": 29,
   "id": "c7470889",
   "metadata": {},
   "outputs": [],
   "source": [
    "abs_df = pd.read_csv('Absenteeism_at_work.csv', sep=';')"
   ]
  },
  {
   "cell_type": "code",
   "execution_count": null,
   "id": "08db2cbf",
   "metadata": {},
   "outputs": [],
   "source": [
    "#### While this is technically time series data, we don't have sufficient information to build a reliable datetime feature\n",
    "#### to represent the precise point of each record."
   ]
  },
  {
   "cell_type": "code",
   "execution_count": 32,
   "id": "324c9442",
   "metadata": {},
   "outputs": [
    {
     "data": {
      "text/html": [
       "<div>\n",
       "<style scoped>\n",
       "    .dataframe tbody tr th:only-of-type {\n",
       "        vertical-align: middle;\n",
       "    }\n",
       "\n",
       "    .dataframe tbody tr th {\n",
       "        vertical-align: top;\n",
       "    }\n",
       "\n",
       "    .dataframe thead th {\n",
       "        text-align: right;\n",
       "    }\n",
       "</style>\n",
       "<table border=\"1\" class=\"dataframe\">\n",
       "  <thead>\n",
       "    <tr style=\"text-align: right;\">\n",
       "      <th></th>\n",
       "      <th>Month of absence</th>\n",
       "      <th>Day of the week</th>\n",
       "      <th>Seasons</th>\n",
       "    </tr>\n",
       "  </thead>\n",
       "  <tbody>\n",
       "    <tr>\n",
       "      <th>0</th>\n",
       "      <td>7</td>\n",
       "      <td>3</td>\n",
       "      <td>1</td>\n",
       "    </tr>\n",
       "    <tr>\n",
       "      <th>1</th>\n",
       "      <td>7</td>\n",
       "      <td>3</td>\n",
       "      <td>1</td>\n",
       "    </tr>\n",
       "    <tr>\n",
       "      <th>2</th>\n",
       "      <td>7</td>\n",
       "      <td>4</td>\n",
       "      <td>1</td>\n",
       "    </tr>\n",
       "    <tr>\n",
       "      <th>3</th>\n",
       "      <td>7</td>\n",
       "      <td>5</td>\n",
       "      <td>1</td>\n",
       "    </tr>\n",
       "    <tr>\n",
       "      <th>4</th>\n",
       "      <td>7</td>\n",
       "      <td>5</td>\n",
       "      <td>1</td>\n",
       "    </tr>\n",
       "    <tr>\n",
       "      <th>5</th>\n",
       "      <td>7</td>\n",
       "      <td>6</td>\n",
       "      <td>1</td>\n",
       "    </tr>\n",
       "    <tr>\n",
       "      <th>6</th>\n",
       "      <td>7</td>\n",
       "      <td>6</td>\n",
       "      <td>1</td>\n",
       "    </tr>\n",
       "    <tr>\n",
       "      <th>7</th>\n",
       "      <td>7</td>\n",
       "      <td>6</td>\n",
       "      <td>1</td>\n",
       "    </tr>\n",
       "    <tr>\n",
       "      <th>8</th>\n",
       "      <td>7</td>\n",
       "      <td>2</td>\n",
       "      <td>1</td>\n",
       "    </tr>\n",
       "    <tr>\n",
       "      <th>9</th>\n",
       "      <td>7</td>\n",
       "      <td>2</td>\n",
       "      <td>1</td>\n",
       "    </tr>\n",
       "  </tbody>\n",
       "</table>\n",
       "</div>"
      ],
      "text/plain": [
       "   Month of absence  Day of the week  Seasons\n",
       "0                 7                3        1\n",
       "1                 7                3        1\n",
       "2                 7                4        1\n",
       "3                 7                5        1\n",
       "4                 7                5        1\n",
       "5                 7                6        1\n",
       "6                 7                6        1\n",
       "7                 7                6        1\n",
       "8                 7                2        1\n",
       "9                 7                2        1"
      ]
     },
     "execution_count": 32,
     "metadata": {},
     "output_type": "execute_result"
    }
   ],
   "source": [
    "abs_df[['Month of absence', 'Day of the week', 'Seasons']].head(10)"
   ]
  },
  {
   "cell_type": "code",
   "execution_count": 83,
   "id": "d8b27743",
   "metadata": {},
   "outputs": [
    {
     "data": {
      "image/png": "[encoded data removed]",
      "text/plain": [
       "<Figure size 720x576 with 1 Axes>"
      ]
     },
     "metadata": {
      "needs_background": "light"
     },
     "output_type": "display_data"
    }
   ],
   "source": [
    "fig, ax = plt.subplots(figsize=(10, 8))\n",
    "\n",
    "sns.barplot(data=abs_df, \n",
    "            x='Month of absence', \n",
    "            y='Absenteeism time in hours',\n",
    "            estimator=np.sum,\n",
    "            ci=None,\n",
    "            ax=ax)\n",
    "\n",
    "plt.show()"
   ]
  },
  {
   "cell_type": "code",
   "execution_count": 84,
   "id": "c38879a2",
   "metadata": {},
   "outputs": [
    {
     "data": {
      "image/png": "[encoded data removed]",
      "text/plain": [
       "<Figure size 720x576 with 1 Axes>"
      ]
     },
     "metadata": {
      "needs_background": "light"
     },
     "output_type": "display_data"
    }
   ],
   "source": [
    "fig, ax = plt.subplots(figsize=(10, 8))\n",
    "\n",
    "sns.barplot(data=abs_df, \n",
    "            x='Day of the week', \n",
    "            y='Absenteeism time in hours',\n",
    "            estimator=np.sum,\n",
    "            ci=None,\n",
    "            ax=ax)\n",
    "\n",
    "plt.show()"
   ]
  },
  {
   "cell_type": "code",
   "execution_count": 94,
   "id": "99df2f18",
   "metadata": {},
   "outputs": [
    {
     "data": {
      "text/plain": [
       "<seaborn.axisgrid.FacetGrid at 0x7fd5478dbdc0>"
      ]
     },
     "execution_count": 94,
     "metadata": {},
     "output_type": "execute_result"
    },
    {
     "data": {
      "image/png": "[encoded data removed]",
      "text/plain": [
       "<Figure size 1440x360 with 4 Axes>"
      ]
     },
     "metadata": {
      "needs_background": "light"
     },
     "output_type": "display_data"
    }
   ],
   "source": [
    "sns.catplot(data=abs_df, x='Day of the week', estimator='count', kind='count', color='gray', col='Seasons')"
   ]
  },
  {
   "cell_type": "code",
   "execution_count": 33,
   "id": "6154a4e8",
   "metadata": {},
   "outputs": [
    {
     "name": "stdout",
     "output_type": "stream",
     "text": [
      "  % Total    % Received % Xferd  Average Speed   Time    Time     Time  Current\n",
      "                                 Dload  Upload   Total   Spent    Left  Speed\n",
      "100 35074  100 35074    0     0  83311      0 --:--:-- --:--:-- --:--:-- 83311\n"
     ]
    }
   ],
   "source": [
    "!curl -O https://archive.ics.uci.edu/ml/machine-learning-databases/00312/dow_jones_index.zip"
   ]
  },
  {
   "cell_type": "code",
   "execution_count": 34,
   "id": "f84b57ae",
   "metadata": {},
   "outputs": [
    {
     "name": "stdout",
     "output_type": "stream",
     "text": [
      "Archive:  dow_jones_index.zip\r\n",
      "  inflating: dow_jones_index.data    \r\n",
      "  inflating: dow_jones_index.names   \r\n"
     ]
    }
   ],
   "source": [
    "!unzip dow_jones_index"
   ]
  },
  {
   "cell_type": "code",
   "execution_count": 95,
   "id": "c1e94722",
   "metadata": {},
   "outputs": [],
   "source": [
    "dow = pd.read_csv('dow_jones_index.data')"
   ]
  },
  {
   "cell_type": "code",
   "execution_count": 96,
   "id": "da0c92c7",
   "metadata": {},
   "outputs": [
    {
     "data": {
      "text/html": [
       "<div>\n",
       "<style scoped>\n",
       "    .dataframe tbody tr th:only-of-type {\n",
       "        vertical-align: middle;\n",
       "    }\n",
       "\n",
       "    .dataframe tbody tr th {\n",
       "        vertical-align: top;\n",
       "    }\n",
       "\n",
       "    .dataframe thead th {\n",
       "        text-align: right;\n",
       "    }\n",
       "</style>\n",
       "<table border=\"1\" class=\"dataframe\">\n",
       "  <thead>\n",
       "    <tr style=\"text-align: right;\">\n",
       "      <th></th>\n",
       "      <th>quarter</th>\n",
       "      <th>stock</th>\n",
       "      <th>date</th>\n",
       "      <th>open</th>\n",
       "      <th>high</th>\n",
       "      <th>low</th>\n",
       "      <th>close</th>\n",
       "      <th>volume</th>\n",
       "      <th>percent_change_price</th>\n",
       "      <th>percent_change_volume_over_last_wk</th>\n",
       "      <th>previous_weeks_volume</th>\n",
       "      <th>next_weeks_open</th>\n",
       "      <th>next_weeks_close</th>\n",
       "      <th>percent_change_next_weeks_price</th>\n",
       "      <th>days_to_next_dividend</th>\n",
       "      <th>percent_return_next_dividend</th>\n",
       "    </tr>\n",
       "  </thead>\n",
       "  <tbody>\n",
       "    <tr>\n",
       "      <th>0</th>\n",
       "      <td>1</td>\n",
       "      <td>AA</td>\n",
       "      <td>1/7/2011</td>\n",
       "      <td>$15.82</td>\n",
       "      <td>$16.72</td>\n",
       "      <td>$15.78</td>\n",
       "      <td>$16.42</td>\n",
       "      <td>239655616</td>\n",
       "      <td>3.79267</td>\n",
       "      <td>NaN</td>\n",
       "      <td>NaN</td>\n",
       "      <td>$16.71</td>\n",
       "      <td>$15.97</td>\n",
       "      <td>-4.428490</td>\n",
       "      <td>26</td>\n",
       "      <td>0.182704</td>\n",
       "    </tr>\n",
       "    <tr>\n",
       "      <th>1</th>\n",
       "      <td>1</td>\n",
       "      <td>AA</td>\n",
       "      <td>1/14/2011</td>\n",
       "      <td>$16.71</td>\n",
       "      <td>$16.71</td>\n",
       "      <td>$15.64</td>\n",
       "      <td>$15.97</td>\n",
       "      <td>242963398</td>\n",
       "      <td>-4.42849</td>\n",
       "      <td>1.380223</td>\n",
       "      <td>239655616.0</td>\n",
       "      <td>$16.19</td>\n",
       "      <td>$15.79</td>\n",
       "      <td>-2.470660</td>\n",
       "      <td>19</td>\n",
       "      <td>0.187852</td>\n",
       "    </tr>\n",
       "    <tr>\n",
       "      <th>2</th>\n",
       "      <td>1</td>\n",
       "      <td>AA</td>\n",
       "      <td>1/21/2011</td>\n",
       "      <td>$16.19</td>\n",
       "      <td>$16.38</td>\n",
       "      <td>$15.60</td>\n",
       "      <td>$15.79</td>\n",
       "      <td>138428495</td>\n",
       "      <td>-2.47066</td>\n",
       "      <td>-43.024959</td>\n",
       "      <td>242963398.0</td>\n",
       "      <td>$15.87</td>\n",
       "      <td>$16.13</td>\n",
       "      <td>1.638310</td>\n",
       "      <td>12</td>\n",
       "      <td>0.189994</td>\n",
       "    </tr>\n",
       "    <tr>\n",
       "      <th>3</th>\n",
       "      <td>1</td>\n",
       "      <td>AA</td>\n",
       "      <td>1/28/2011</td>\n",
       "      <td>$15.87</td>\n",
       "      <td>$16.63</td>\n",
       "      <td>$15.82</td>\n",
       "      <td>$16.13</td>\n",
       "      <td>151379173</td>\n",
       "      <td>1.63831</td>\n",
       "      <td>9.355500</td>\n",
       "      <td>138428495.0</td>\n",
       "      <td>$16.18</td>\n",
       "      <td>$17.14</td>\n",
       "      <td>5.933250</td>\n",
       "      <td>5</td>\n",
       "      <td>0.185989</td>\n",
       "    </tr>\n",
       "    <tr>\n",
       "      <th>4</th>\n",
       "      <td>1</td>\n",
       "      <td>AA</td>\n",
       "      <td>2/4/2011</td>\n",
       "      <td>$16.18</td>\n",
       "      <td>$17.39</td>\n",
       "      <td>$16.18</td>\n",
       "      <td>$17.14</td>\n",
       "      <td>154387761</td>\n",
       "      <td>5.93325</td>\n",
       "      <td>1.987452</td>\n",
       "      <td>151379173.0</td>\n",
       "      <td>$17.33</td>\n",
       "      <td>$17.37</td>\n",
       "      <td>0.230814</td>\n",
       "      <td>97</td>\n",
       "      <td>0.175029</td>\n",
       "    </tr>\n",
       "  </tbody>\n",
       "</table>\n",
       "</div>"
      ],
      "text/plain": [
       "   quarter stock       date    open    high     low   close     volume  \\\n",
       "0        1    AA   1/7/2011  $15.82  $16.72  $15.78  $16.42  239655616   \n",
       "1        1    AA  1/14/2011  $16.71  $16.71  $15.64  $15.97  242963398   \n",
       "2        1    AA  1/21/2011  $16.19  $16.38  $15.60  $15.79  138428495   \n",
       "3        1    AA  1/28/2011  $15.87  $16.63  $15.82  $16.13  151379173   \n",
       "4        1    AA   2/4/2011  $16.18  $17.39  $16.18  $17.14  154387761   \n",
       "\n",
       "   percent_change_price  percent_change_volume_over_last_wk  \\\n",
       "0               3.79267                                 NaN   \n",
       "1              -4.42849                            1.380223   \n",
       "2              -2.47066                          -43.024959   \n",
       "3               1.63831                            9.355500   \n",
       "4               5.93325                            1.987452   \n",
       "\n",
       "   previous_weeks_volume next_weeks_open next_weeks_close  \\\n",
       "0                    NaN          $16.71           $15.97   \n",
       "1            239655616.0          $16.19           $15.79   \n",
       "2            242963398.0          $15.87           $16.13   \n",
       "3            138428495.0          $16.18           $17.14   \n",
       "4            151379173.0          $17.33           $17.37   \n",
       "\n",
       "   percent_change_next_weeks_price  days_to_next_dividend  \\\n",
       "0                        -4.428490                     26   \n",
       "1                        -2.470660                     19   \n",
       "2                         1.638310                     12   \n",
       "3                         5.933250                      5   \n",
       "4                         0.230814                     97   \n",
       "\n",
       "   percent_return_next_dividend  \n",
       "0                      0.182704  \n",
       "1                      0.187852  \n",
       "2                      0.189994  \n",
       "3                      0.185989  \n",
       "4                      0.175029  "
      ]
     },
     "execution_count": 96,
     "metadata": {},
     "output_type": "execute_result"
    }
   ],
   "source": [
    "dow.head()"
   ]
  },
  {
   "cell_type": "code",
   "execution_count": 97,
   "id": "9b729d0b",
   "metadata": {},
   "outputs": [],
   "source": [
    "dow = pd.read_csv('dow_jones_index.data', index_col=2,\n",
    "                 parse_dates=[2],\n",
    "                 infer_datetime_format=True)"
   ]
  },
  {
   "cell_type": "code",
   "execution_count": 98,
   "id": "f015bfaf",
   "metadata": {},
   "outputs": [
    {
     "data": {
      "text/html": [
       "<div>\n",
       "<style scoped>\n",
       "    .dataframe tbody tr th:only-of-type {\n",
       "        vertical-align: middle;\n",
       "    }\n",
       "\n",
       "    .dataframe tbody tr th {\n",
       "        vertical-align: top;\n",
       "    }\n",
       "\n",
       "    .dataframe thead th {\n",
       "        text-align: right;\n",
       "    }\n",
       "</style>\n",
       "<table border=\"1\" class=\"dataframe\">\n",
       "  <thead>\n",
       "    <tr style=\"text-align: right;\">\n",
       "      <th></th>\n",
       "      <th>quarter</th>\n",
       "      <th>stock</th>\n",
       "      <th>open</th>\n",
       "      <th>high</th>\n",
       "      <th>low</th>\n",
       "      <th>close</th>\n",
       "      <th>volume</th>\n",
       "      <th>percent_change_price</th>\n",
       "      <th>percent_change_volume_over_last_wk</th>\n",
       "      <th>previous_weeks_volume</th>\n",
       "      <th>next_weeks_open</th>\n",
       "      <th>next_weeks_close</th>\n",
       "      <th>percent_change_next_weeks_price</th>\n",
       "      <th>days_to_next_dividend</th>\n",
       "      <th>percent_return_next_dividend</th>\n",
       "    </tr>\n",
       "    <tr>\n",
       "      <th>date</th>\n",
       "      <th></th>\n",
       "      <th></th>\n",
       "      <th></th>\n",
       "      <th></th>\n",
       "      <th></th>\n",
       "      <th></th>\n",
       "      <th></th>\n",
       "      <th></th>\n",
       "      <th></th>\n",
       "      <th></th>\n",
       "      <th></th>\n",
       "      <th></th>\n",
       "      <th></th>\n",
       "      <th></th>\n",
       "      <th></th>\n",
       "    </tr>\n",
       "  </thead>\n",
       "  <tbody>\n",
       "    <tr>\n",
       "      <th>2011-01-07</th>\n",
       "      <td>1</td>\n",
       "      <td>AA</td>\n",
       "      <td>$15.82</td>\n",
       "      <td>$16.72</td>\n",
       "      <td>$15.78</td>\n",
       "      <td>$16.42</td>\n",
       "      <td>239655616</td>\n",
       "      <td>3.79267</td>\n",
       "      <td>NaN</td>\n",
       "      <td>NaN</td>\n",
       "      <td>$16.71</td>\n",
       "      <td>$15.97</td>\n",
       "      <td>-4.428490</td>\n",
       "      <td>26</td>\n",
       "      <td>0.182704</td>\n",
       "    </tr>\n",
       "    <tr>\n",
       "      <th>2011-01-14</th>\n",
       "      <td>1</td>\n",
       "      <td>AA</td>\n",
       "      <td>$16.71</td>\n",
       "      <td>$16.71</td>\n",
       "      <td>$15.64</td>\n",
       "      <td>$15.97</td>\n",
       "      <td>242963398</td>\n",
       "      <td>-4.42849</td>\n",
       "      <td>1.380223</td>\n",
       "      <td>239655616.0</td>\n",
       "      <td>$16.19</td>\n",
       "      <td>$15.79</td>\n",
       "      <td>-2.470660</td>\n",
       "      <td>19</td>\n",
       "      <td>0.187852</td>\n",
       "    </tr>\n",
       "    <tr>\n",
       "      <th>2011-01-21</th>\n",
       "      <td>1</td>\n",
       "      <td>AA</td>\n",
       "      <td>$16.19</td>\n",
       "      <td>$16.38</td>\n",
       "      <td>$15.60</td>\n",
       "      <td>$15.79</td>\n",
       "      <td>138428495</td>\n",
       "      <td>-2.47066</td>\n",
       "      <td>-43.024959</td>\n",
       "      <td>242963398.0</td>\n",
       "      <td>$15.87</td>\n",
       "      <td>$16.13</td>\n",
       "      <td>1.638310</td>\n",
       "      <td>12</td>\n",
       "      <td>0.189994</td>\n",
       "    </tr>\n",
       "    <tr>\n",
       "      <th>2011-01-28</th>\n",
       "      <td>1</td>\n",
       "      <td>AA</td>\n",
       "      <td>$15.87</td>\n",
       "      <td>$16.63</td>\n",
       "      <td>$15.82</td>\n",
       "      <td>$16.13</td>\n",
       "      <td>151379173</td>\n",
       "      <td>1.63831</td>\n",
       "      <td>9.355500</td>\n",
       "      <td>138428495.0</td>\n",
       "      <td>$16.18</td>\n",
       "      <td>$17.14</td>\n",
       "      <td>5.933250</td>\n",
       "      <td>5</td>\n",
       "      <td>0.185989</td>\n",
       "    </tr>\n",
       "    <tr>\n",
       "      <th>2011-02-04</th>\n",
       "      <td>1</td>\n",
       "      <td>AA</td>\n",
       "      <td>$16.18</td>\n",
       "      <td>$17.39</td>\n",
       "      <td>$16.18</td>\n",
       "      <td>$17.14</td>\n",
       "      <td>154387761</td>\n",
       "      <td>5.93325</td>\n",
       "      <td>1.987452</td>\n",
       "      <td>151379173.0</td>\n",
       "      <td>$17.33</td>\n",
       "      <td>$17.37</td>\n",
       "      <td>0.230814</td>\n",
       "      <td>97</td>\n",
       "      <td>0.175029</td>\n",
       "    </tr>\n",
       "  </tbody>\n",
       "</table>\n",
       "</div>"
      ],
      "text/plain": [
       "            quarter stock    open    high     low   close     volume  \\\n",
       "date                                                                   \n",
       "2011-01-07        1    AA  $15.82  $16.72  $15.78  $16.42  239655616   \n",
       "2011-01-14        1    AA  $16.71  $16.71  $15.64  $15.97  242963398   \n",
       "2011-01-21        1    AA  $16.19  $16.38  $15.60  $15.79  138428495   \n",
       "2011-01-28        1    AA  $15.87  $16.63  $15.82  $16.13  151379173   \n",
       "2011-02-04        1    AA  $16.18  $17.39  $16.18  $17.14  154387761   \n",
       "\n",
       "            percent_change_price  percent_change_volume_over_last_wk  \\\n",
       "date                                                                   \n",
       "2011-01-07               3.79267                                 NaN   \n",
       "2011-01-14              -4.42849                            1.380223   \n",
       "2011-01-21              -2.47066                          -43.024959   \n",
       "2011-01-28               1.63831                            9.355500   \n",
       "2011-02-04               5.93325                            1.987452   \n",
       "\n",
       "            previous_weeks_volume next_weeks_open next_weeks_close  \\\n",
       "date                                                                 \n",
       "2011-01-07                    NaN          $16.71           $15.97   \n",
       "2011-01-14            239655616.0          $16.19           $15.79   \n",
       "2011-01-21            242963398.0          $15.87           $16.13   \n",
       "2011-01-28            138428495.0          $16.18           $17.14   \n",
       "2011-02-04            151379173.0          $17.33           $17.37   \n",
       "\n",
       "            percent_change_next_weeks_price  days_to_next_dividend  \\\n",
       "date                                                                 \n",
       "2011-01-07                        -4.428490                     26   \n",
       "2011-01-14                        -2.470660                     19   \n",
       "2011-01-21                         1.638310                     12   \n",
       "2011-01-28                         5.933250                      5   \n",
       "2011-02-04                         0.230814                     97   \n",
       "\n",
       "            percent_return_next_dividend  \n",
       "date                                      \n",
       "2011-01-07                      0.182704  \n",
       "2011-01-14                      0.187852  \n",
       "2011-01-21                      0.189994  \n",
       "2011-01-28                      0.185989  \n",
       "2011-02-04                      0.175029  "
      ]
     },
     "execution_count": 98,
     "metadata": {},
     "output_type": "execute_result"
    }
   ],
   "source": [
    "dow.head()"
   ]
  },
  {
   "cell_type": "code",
   "execution_count": 99,
   "id": "88f24ae6",
   "metadata": {},
   "outputs": [
    {
     "data": {
      "text/plain": [
       "DatetimeIndex(['2011-01-07', '2011-01-14', '2011-01-21', '2011-01-28',\n",
       "               '2011-02-04', '2011-02-11', '2011-02-18', '2011-02-25',\n",
       "               '2011-03-04', '2011-03-11',\n",
       "               ...\n",
       "               '2011-04-21', '2011-04-29', '2011-05-06', '2011-05-13',\n",
       "               '2011-05-20', '2011-05-27', '2011-06-03', '2011-06-10',\n",
       "               '2011-06-17', '2011-06-24'],\n",
       "              dtype='datetime64[ns]', name='date', length=750, freq=None)"
      ]
     },
     "execution_count": 99,
     "metadata": {},
     "output_type": "execute_result"
    }
   ],
   "source": [
    "# these data are recorded weekly\n",
    "dow.index"
   ]
  },
  {
   "cell_type": "code",
   "execution_count": 110,
   "id": "2a84c341",
   "metadata": {},
   "outputs": [
    {
     "data": {
      "text/plain": [
       "AA      25\n",
       "AXP     25\n",
       "WMT     25\n",
       "VZ      25\n",
       "UTX     25\n",
       "TRV     25\n",
       "T       25\n",
       "PG      25\n",
       "PFE     25\n",
       "MSFT    25\n",
       "MRK     25\n",
       "MMM     25\n",
       "MCD     25\n",
       "KO      25\n",
       "KRFT    25\n",
       "JPM     25\n",
       "JNJ     25\n",
       "INTC    25\n",
       "IBM     25\n",
       "HPQ     25\n",
       "HD      25\n",
       "GE      25\n",
       "DIS     25\n",
       "DD      25\n",
       "CVX     25\n",
       "CSCO    25\n",
       "CAT     25\n",
       "BAC     25\n",
       "BA      25\n",
       "XOM     25\n",
       "Name: stock, dtype: int64"
      ]
     },
     "execution_count": 110,
     "metadata": {},
     "output_type": "execute_result"
    }
   ],
   "source": [
    "dow['stock'].value_counts()"
   ]
  },
  {
   "cell_type": "code",
   "execution_count": 111,
   "id": "f1633062",
   "metadata": {},
   "outputs": [],
   "source": [
    "# we need multi-indexed rows here\n",
    "\n",
    "dow = pd.read_csv('dow_jones_index.data', index_col=[1, 2],\n",
    "                 parse_dates=[2],\n",
    "                 infer_datetime_format=True)"
   ]
  },
  {
   "cell_type": "code",
   "execution_count": 116,
   "id": "07416adb",
   "metadata": {},
   "outputs": [
    {
     "data": {
      "text/plain": [
       "FrozenList(['stock', 'date'])"
      ]
     },
     "execution_count": 116,
     "metadata": {},
     "output_type": "execute_result"
    }
   ],
   "source": [
    "dow.index.names"
   ]
  },
  {
   "cell_type": "code",
   "execution_count": 140,
   "id": "03aab425",
   "metadata": {},
   "outputs": [],
   "source": [
    "# Upsampling\n",
    "# Say we want to resample to get data points for each day\n",
    "\n",
    "dow = pd.read_csv('dow_jones_index.data', index_col=[2],\n",
    "                 parse_dates=[2],\n",
    "                 infer_datetime_format=True)\n",
    "\n",
    "dow_daily = dow.groupby('stock').resample('1D').ffill()"
   ]
  },
  {
   "cell_type": "code",
   "execution_count": 143,
   "id": "7b6c7b89",
   "metadata": {},
   "outputs": [
    {
     "data": {
      "text/plain": [
       "MultiIndex([( 'AA', '2011-01-07'),\n",
       "            ( 'AA', '2011-01-08'),\n",
       "            ( 'AA', '2011-01-09'),\n",
       "            ( 'AA', '2011-01-10'),\n",
       "            ( 'AA', '2011-01-11'),\n",
       "            ( 'AA', '2011-01-12'),\n",
       "            ( 'AA', '2011-01-13'),\n",
       "            ( 'AA', '2011-01-14'),\n",
       "            ( 'AA', '2011-01-15'),\n",
       "            ( 'AA', '2011-01-16'),\n",
       "            ...\n",
       "            ('XOM', '2011-06-15'),\n",
       "            ('XOM', '2011-06-16'),\n",
       "            ('XOM', '2011-06-17'),\n",
       "            ('XOM', '2011-06-18'),\n",
       "            ('XOM', '2011-06-19'),\n",
       "            ('XOM', '2011-06-20'),\n",
       "            ('XOM', '2011-06-21'),\n",
       "            ('XOM', '2011-06-22'),\n",
       "            ('XOM', '2011-06-23'),\n",
       "            ('XOM', '2011-06-24')],\n",
       "           names=['stock', 'date'], length=5070)"
      ]
     },
     "execution_count": 143,
     "metadata": {},
     "output_type": "execute_result"
    }
   ],
   "source": [
    "dow_daily.index"
   ]
  },
  {
   "cell_type": "code",
   "execution_count": 145,
   "id": "ad531d62",
   "metadata": {},
   "outputs": [
    {
     "data": {
      "text/plain": [
       "DatetimeIndex(['2011-01-07', '2011-01-08', '2011-01-09', '2011-01-10',\n",
       "               '2011-01-11', '2011-01-12', '2011-01-13', '2011-01-14',\n",
       "               '2011-01-15', '2011-01-16',\n",
       "               ...\n",
       "               '2011-06-15', '2011-06-16', '2011-06-17', '2011-06-18',\n",
       "               '2011-06-19', '2011-06-20', '2011-06-21', '2011-06-22',\n",
       "               '2011-06-23', '2011-06-24'],\n",
       "              dtype='datetime64[ns]', name='date', length=5070, freq=None)"
      ]
     },
     "execution_count": 145,
     "metadata": {},
     "output_type": "execute_result"
    }
   ],
   "source": [
    "dow_daily.index.get_level_values(-1)"
   ]
  },
  {
   "cell_type": "code",
   "execution_count": 157,
   "id": "96bd77ef",
   "metadata": {},
   "outputs": [
    {
     "data": {
      "image/png": "[encoded data removed]",
      "text/plain": [
       "<Figure size 720x432 with 1 Axes>"
      ]
     },
     "metadata": {
      "needs_background": "light"
     },
     "output_type": "display_data"
    }
   ],
   "source": [
    "fig, ax = plt.subplots(figsize=(10, 6))\n",
    "\n",
    "sns.lineplot(data=dow_daily, \n",
    "             x=dow_daily.index.get_level_values(-1), \n",
    "             y='volume', \n",
    "             ci=None,\n",
    "             ax=ax)\n",
    "\n",
    "plt.show()"
   ]
  },
  {
   "cell_type": "code",
   "execution_count": 162,
   "id": "ee9454f5",
   "metadata": {},
   "outputs": [],
   "source": [
    "# downsample\n",
    "\n",
    "dow_monthly = dow.groupby('stock').resample('1M').mean()"
   ]
  },
  {
   "cell_type": "code",
   "execution_count": 165,
   "id": "5dd74b64",
   "metadata": {},
   "outputs": [
    {
     "data": {
      "image/png": "[encoded data removed]",
      "text/plain": [
       "<Figure size 720x432 with 1 Axes>"
      ]
     },
     "metadata": {
      "needs_background": "light"
     },
     "output_type": "display_data"
    }
   ],
   "source": [
    "fig, ax = plt.subplots(figsize=(10, 6))\n",
    "\n",
    "sns.lineplot(data=dow_monthly, \n",
    "             x=dow_monthly.index.get_level_values(-1), \n",
    "             y='volume', \n",
    "             ci=None,\n",
    "             ax=ax)\n",
    "\n",
    "ax.yaxis.get_major_formatter().set_scientific(False)"
   ]
  },
  {
   "cell_type": "code",
   "execution_count": 168,
   "id": "f9112a3b",
   "metadata": {},
   "outputs": [
    {
     "data": {
      "text/plain": [
       "<seaborn.axisgrid.FacetGrid at 0x7fd540342f10>"
      ]
     },
     "execution_count": 168,
     "metadata": {},
     "output_type": "execute_result"
    },
    {
     "data": {
      "image/png": "[encoded data removed]",
      "text/plain": [
       "<Figure size 423.75x360 with 1 Axes>"
      ]
     },
     "metadata": {
      "needs_background": "light"
     },
     "output_type": "display_data"
    }
   ],
   "source": [
    "sns.relplot(data=dow_monthly, \n",
    "            x=dow_monthly.index.get_level_values(-1),\n",
    "           y='volume',\n",
    "           hue='stock',\n",
    "           kind='line')"
   ]
  }
 ],
 "metadata": {
  "kernelspec": {
   "display_name": "tools_venv",
   "language": "python",
   "name": "tools_venv"
  },
  "language_info": {
   "codemirror_mode": {
    "name": "ipython",
    "version": 3
   },
   "file_extension": ".py",
   "mimetype": "text/x-python",
   "name": "python",
   "nbconvert_exporter": "python",
   "pygments_lexer": "ipython3",
   "version": "3.8.10"
  }
 },
 "nbformat": 4,
 "nbformat_minor": 5
}
